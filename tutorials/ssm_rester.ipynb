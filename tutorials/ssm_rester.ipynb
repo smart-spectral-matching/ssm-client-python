{
 "cells": [
  {
   "cell_type": "code",
   "execution_count": null,
   "id": "approved-holiday",
   "metadata": {},
   "outputs": [],
   "source": [
    "import os\n",
    "import sys\n",
    "sys.path.insert(0, os.path.abspath('../'))"
   ]
  },
  {
   "cell_type": "code",
   "execution_count": null,
   "id": "successful-moore",
   "metadata": {},
   "outputs": [],
   "source": [
    "import pathlib\n",
    "from ssm_rest_python_client.io import read\n",
    "from tests import TEST_DATA_DIR\n",
    "\n",
    "p = pathlib.Path(TEST_DATA_DIR, \"rruff\", \"raman_studtite.rruff\")\n",
    "scidata_dict = read(p.absolute(), ioformat=\"rruff\")"
   ]
  },
  {
   "cell_type": "code",
   "execution_count": null,
   "id": "defined-lottery",
   "metadata": {
    "scrolled": true
   },
   "outputs": [],
   "source": [
    "import json\n",
    "from ssm_rest_python_client import SSMRester\n",
    "\n",
    "rester = SSMRester(hostname=\"http://ssm-dev.ornl.gov\", port=8080)\n",
    "dataset = rester.dataset.create()\n",
    "rester.initialize_model_for_dataset(dataset)\n",
    "\n",
    "model = rester.model.create(scidata_dict)"
   ]
  },
  {
   "cell_type": "code",
   "execution_count": null,
   "id": "suspended-noise",
   "metadata": {},
   "outputs": [],
   "source": [
    "print(dataset.uuid)\n",
    "print(model.uuid)"
   ]
  },
  {
   "cell_type": "code",
   "execution_count": null,
   "id": "informal-french",
   "metadata": {},
   "outputs": [],
   "source": [
    "rester.dataset.delete_by_uuid(dataset.uuid)\n"
   ]
  }
 ],
 "metadata": {
  "kernelspec": {
   "display_name": "Python 3",
   "language": "python",
   "name": "python3"
  },
  "language_info": {
   "codemirror_mode": {
    "name": "ipython",
    "version": 3
   },
   "file_extension": ".py",
   "mimetype": "text/x-python",
   "name": "python",
   "nbconvert_exporter": "python",
   "pygments_lexer": "ipython3",
   "version": "3.6.12"
  }
 },
 "nbformat": 4,
 "nbformat_minor": 5
}
